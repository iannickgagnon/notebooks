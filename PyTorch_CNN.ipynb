{
  "nbformat": 4,
  "nbformat_minor": 0,
  "metadata": {
    "colab": {
      "provenance": [],
      "authorship_tag": "ABX9TyPUthXQtPBG7A8YIDDZbSoS",
      "include_colab_link": true
    },
    "kernelspec": {
      "name": "python3",
      "display_name": "Python 3"
    },
    "language_info": {
      "name": "python"
    }
  },
  "cells": [
    {
      "cell_type": "markdown",
      "metadata": {
        "id": "view-in-github",
        "colab_type": "text"
      },
      "source": [
        "<a href=\"https://colab.research.google.com/github/iannickgagnon/notebooks/blob/main/PyTorch_CNN.ipynb\" target=\"_parent\"><img src=\"https://colab.research.google.com/assets/colab-badge.svg\" alt=\"Open In Colab\"/></a>"
      ]
    },
    {
      "cell_type": "markdown",
      "source": [
        "# Étape 1 : Préparer l'environnement"
      ],
      "metadata": {
        "id": "6Rj-rpeGgK-E"
      }
    },
    {
      "cell_type": "code",
      "execution_count": 2,
      "metadata": {
        "colab": {
          "base_uri": "https://localhost:8080/"
        },
        "collapsed": true,
        "id": "teKDF24Ef0yp",
        "outputId": "9d81ba51-dac6-4073-a060-eaa75ca5ad0e"
      },
      "outputs": [
        {
          "output_type": "stream",
          "name": "stdout",
          "text": [
            "Requirement already satisfied: torch in /usr/local/lib/python3.11/dist-packages (2.6.0+cu124)\n",
            "Requirement already satisfied: torchvision in /usr/local/lib/python3.11/dist-packages (0.21.0+cu124)\n",
            "Requirement already satisfied: matplotlib in /usr/local/lib/python3.11/dist-packages (3.10.0)\n",
            "Requirement already satisfied: filelock in /usr/local/lib/python3.11/dist-packages (from torch) (3.18.0)\n",
            "Requirement already satisfied: typing-extensions>=4.10.0 in /usr/local/lib/python3.11/dist-packages (from torch) (4.13.2)\n",
            "Requirement already satisfied: networkx in /usr/local/lib/python3.11/dist-packages (from torch) (3.4.2)\n",
            "Requirement already satisfied: jinja2 in /usr/local/lib/python3.11/dist-packages (from torch) (3.1.6)\n",
            "Requirement already satisfied: fsspec in /usr/local/lib/python3.11/dist-packages (from torch) (2025.3.2)\n",
            "Collecting nvidia-cuda-nvrtc-cu12==12.4.127 (from torch)\n",
            "  Downloading nvidia_cuda_nvrtc_cu12-12.4.127-py3-none-manylinux2014_x86_64.whl.metadata (1.5 kB)\n",
            "Collecting nvidia-cuda-runtime-cu12==12.4.127 (from torch)\n",
            "  Downloading nvidia_cuda_runtime_cu12-12.4.127-py3-none-manylinux2014_x86_64.whl.metadata (1.5 kB)\n",
            "Collecting nvidia-cuda-cupti-cu12==12.4.127 (from torch)\n",
            "  Downloading nvidia_cuda_cupti_cu12-12.4.127-py3-none-manylinux2014_x86_64.whl.metadata (1.6 kB)\n",
            "Collecting nvidia-cudnn-cu12==9.1.0.70 (from torch)\n",
            "  Downloading nvidia_cudnn_cu12-9.1.0.70-py3-none-manylinux2014_x86_64.whl.metadata (1.6 kB)\n",
            "Collecting nvidia-cublas-cu12==12.4.5.8 (from torch)\n",
            "  Downloading nvidia_cublas_cu12-12.4.5.8-py3-none-manylinux2014_x86_64.whl.metadata (1.5 kB)\n",
            "Collecting nvidia-cufft-cu12==11.2.1.3 (from torch)\n",
            "  Downloading nvidia_cufft_cu12-11.2.1.3-py3-none-manylinux2014_x86_64.whl.metadata (1.5 kB)\n",
            "Collecting nvidia-curand-cu12==10.3.5.147 (from torch)\n",
            "  Downloading nvidia_curand_cu12-10.3.5.147-py3-none-manylinux2014_x86_64.whl.metadata (1.5 kB)\n",
            "Collecting nvidia-cusolver-cu12==11.6.1.9 (from torch)\n",
            "  Downloading nvidia_cusolver_cu12-11.6.1.9-py3-none-manylinux2014_x86_64.whl.metadata (1.6 kB)\n",
            "Collecting nvidia-cusparse-cu12==12.3.1.170 (from torch)\n",
            "  Downloading nvidia_cusparse_cu12-12.3.1.170-py3-none-manylinux2014_x86_64.whl.metadata (1.6 kB)\n",
            "Requirement already satisfied: nvidia-cusparselt-cu12==0.6.2 in /usr/local/lib/python3.11/dist-packages (from torch) (0.6.2)\n",
            "Requirement already satisfied: nvidia-nccl-cu12==2.21.5 in /usr/local/lib/python3.11/dist-packages (from torch) (2.21.5)\n",
            "Requirement already satisfied: nvidia-nvtx-cu12==12.4.127 in /usr/local/lib/python3.11/dist-packages (from torch) (12.4.127)\n",
            "Collecting nvidia-nvjitlink-cu12==12.4.127 (from torch)\n",
            "  Downloading nvidia_nvjitlink_cu12-12.4.127-py3-none-manylinux2014_x86_64.whl.metadata (1.5 kB)\n",
            "Requirement already satisfied: triton==3.2.0 in /usr/local/lib/python3.11/dist-packages (from torch) (3.2.0)\n",
            "Requirement already satisfied: sympy==1.13.1 in /usr/local/lib/python3.11/dist-packages (from torch) (1.13.1)\n",
            "Requirement already satisfied: mpmath<1.4,>=1.1.0 in /usr/local/lib/python3.11/dist-packages (from sympy==1.13.1->torch) (1.3.0)\n",
            "Requirement already satisfied: numpy in /usr/local/lib/python3.11/dist-packages (from torchvision) (2.0.2)\n",
            "Requirement already satisfied: pillow!=8.3.*,>=5.3.0 in /usr/local/lib/python3.11/dist-packages (from torchvision) (11.1.0)\n",
            "Requirement already satisfied: contourpy>=1.0.1 in /usr/local/lib/python3.11/dist-packages (from matplotlib) (1.3.2)\n",
            "Requirement already satisfied: cycler>=0.10 in /usr/local/lib/python3.11/dist-packages (from matplotlib) (0.12.1)\n",
            "Requirement already satisfied: fonttools>=4.22.0 in /usr/local/lib/python3.11/dist-packages (from matplotlib) (4.57.0)\n",
            "Requirement already satisfied: kiwisolver>=1.3.1 in /usr/local/lib/python3.11/dist-packages (from matplotlib) (1.4.8)\n",
            "Requirement already satisfied: packaging>=20.0 in /usr/local/lib/python3.11/dist-packages (from matplotlib) (24.2)\n",
            "Requirement already satisfied: pyparsing>=2.3.1 in /usr/local/lib/python3.11/dist-packages (from matplotlib) (3.2.3)\n",
            "Requirement already satisfied: python-dateutil>=2.7 in /usr/local/lib/python3.11/dist-packages (from matplotlib) (2.8.2)\n",
            "Requirement already satisfied: six>=1.5 in /usr/local/lib/python3.11/dist-packages (from python-dateutil>=2.7->matplotlib) (1.17.0)\n",
            "Requirement already satisfied: MarkupSafe>=2.0 in /usr/local/lib/python3.11/dist-packages (from jinja2->torch) (3.0.2)\n",
            "Downloading nvidia_cublas_cu12-12.4.5.8-py3-none-manylinux2014_x86_64.whl (363.4 MB)\n",
            "\u001b[2K   \u001b[90m━━━━━━━━━━━━━━━━━━━━━━━━━━━━━━━━━━━━━━━━\u001b[0m \u001b[32m363.4/363.4 MB\u001b[0m \u001b[31m2.5 MB/s\u001b[0m eta \u001b[36m0:00:00\u001b[0m\n",
            "\u001b[?25hDownloading nvidia_cuda_cupti_cu12-12.4.127-py3-none-manylinux2014_x86_64.whl (13.8 MB)\n",
            "\u001b[2K   \u001b[90m━━━━━━━━━━━━━━━━━━━━━━━━━━━━━━━━━━━━━━━━\u001b[0m \u001b[32m13.8/13.8 MB\u001b[0m \u001b[31m58.9 MB/s\u001b[0m eta \u001b[36m0:00:00\u001b[0m\n",
            "\u001b[?25hDownloading nvidia_cuda_nvrtc_cu12-12.4.127-py3-none-manylinux2014_x86_64.whl (24.6 MB)\n",
            "\u001b[2K   \u001b[90m━━━━━━━━━━━━━━━━━━━━━━━━━━━━━━━━━━━━━━━━\u001b[0m \u001b[32m24.6/24.6 MB\u001b[0m \u001b[31m28.6 MB/s\u001b[0m eta \u001b[36m0:00:00\u001b[0m\n",
            "\u001b[?25hDownloading nvidia_cuda_runtime_cu12-12.4.127-py3-none-manylinux2014_x86_64.whl (883 kB)\n",
            "\u001b[2K   \u001b[90m━━━━━━━━━━━━━━━━━━━━━━━━━━━━━━━━━━━━━━━━\u001b[0m \u001b[32m883.7/883.7 kB\u001b[0m \u001b[31m37.5 MB/s\u001b[0m eta \u001b[36m0:00:00\u001b[0m\n",
            "\u001b[?25hDownloading nvidia_cudnn_cu12-9.1.0.70-py3-none-manylinux2014_x86_64.whl (664.8 MB)\n",
            "\u001b[2K   \u001b[90m━━━━━━━━━━━━━━━━━━━━━━━━━━━━━━━━━━━━━━━━\u001b[0m \u001b[32m664.8/664.8 MB\u001b[0m \u001b[31m1.2 MB/s\u001b[0m eta \u001b[36m0:00:00\u001b[0m\n",
            "\u001b[?25hDownloading nvidia_cufft_cu12-11.2.1.3-py3-none-manylinux2014_x86_64.whl (211.5 MB)\n",
            "\u001b[2K   \u001b[90m━━━━━━━━━━━━━━━━━━━━━━━━━━━━━━━━━━━━━━━━\u001b[0m \u001b[32m211.5/211.5 MB\u001b[0m \u001b[31m5.8 MB/s\u001b[0m eta \u001b[36m0:00:00\u001b[0m\n",
            "\u001b[?25hDownloading nvidia_curand_cu12-10.3.5.147-py3-none-manylinux2014_x86_64.whl (56.3 MB)\n",
            "\u001b[2K   \u001b[90m━━━━━━━━━━━━━━━━━━━━━━━━━━━━━━━━━━━━━━━━\u001b[0m \u001b[32m56.3/56.3 MB\u001b[0m \u001b[31m14.5 MB/s\u001b[0m eta \u001b[36m0:00:00\u001b[0m\n",
            "\u001b[?25hDownloading nvidia_cusolver_cu12-11.6.1.9-py3-none-manylinux2014_x86_64.whl (127.9 MB)\n",
            "\u001b[2K   \u001b[90m━━━━━━━━━━━━━━━━━━━━━━━━━━━━━━━━━━━━━━━━\u001b[0m \u001b[32m127.9/127.9 MB\u001b[0m \u001b[31m7.8 MB/s\u001b[0m eta \u001b[36m0:00:00\u001b[0m\n",
            "\u001b[?25hDownloading nvidia_cusparse_cu12-12.3.1.170-py3-none-manylinux2014_x86_64.whl (207.5 MB)\n",
            "\u001b[2K   \u001b[90m━━━━━━━━━━━━━━━━━━━━━━━━━━━━━━━━━━━━━━━━\u001b[0m \u001b[32m207.5/207.5 MB\u001b[0m \u001b[31m5.3 MB/s\u001b[0m eta \u001b[36m0:00:00\u001b[0m\n",
            "\u001b[?25hDownloading nvidia_nvjitlink_cu12-12.4.127-py3-none-manylinux2014_x86_64.whl (21.1 MB)\n",
            "\u001b[2K   \u001b[90m━━━━━━━━━━━━━━━━━━━━━━━━━━━━━━━━━━━━━━━━\u001b[0m \u001b[32m21.1/21.1 MB\u001b[0m \u001b[31m65.7 MB/s\u001b[0m eta \u001b[36m0:00:00\u001b[0m\n",
            "\u001b[?25hInstalling collected packages: nvidia-nvjitlink-cu12, nvidia-curand-cu12, nvidia-cufft-cu12, nvidia-cuda-runtime-cu12, nvidia-cuda-nvrtc-cu12, nvidia-cuda-cupti-cu12, nvidia-cublas-cu12, nvidia-cusparse-cu12, nvidia-cudnn-cu12, nvidia-cusolver-cu12\n",
            "  Attempting uninstall: nvidia-nvjitlink-cu12\n",
            "    Found existing installation: nvidia-nvjitlink-cu12 12.5.82\n",
            "    Uninstalling nvidia-nvjitlink-cu12-12.5.82:\n",
            "      Successfully uninstalled nvidia-nvjitlink-cu12-12.5.82\n",
            "  Attempting uninstall: nvidia-curand-cu12\n",
            "    Found existing installation: nvidia-curand-cu12 10.3.6.82\n",
            "    Uninstalling nvidia-curand-cu12-10.3.6.82:\n",
            "      Successfully uninstalled nvidia-curand-cu12-10.3.6.82\n",
            "  Attempting uninstall: nvidia-cufft-cu12\n",
            "    Found existing installation: nvidia-cufft-cu12 11.2.3.61\n",
            "    Uninstalling nvidia-cufft-cu12-11.2.3.61:\n",
            "      Successfully uninstalled nvidia-cufft-cu12-11.2.3.61\n",
            "  Attempting uninstall: nvidia-cuda-runtime-cu12\n",
            "    Found existing installation: nvidia-cuda-runtime-cu12 12.5.82\n",
            "    Uninstalling nvidia-cuda-runtime-cu12-12.5.82:\n",
            "      Successfully uninstalled nvidia-cuda-runtime-cu12-12.5.82\n",
            "  Attempting uninstall: nvidia-cuda-nvrtc-cu12\n",
            "    Found existing installation: nvidia-cuda-nvrtc-cu12 12.5.82\n",
            "    Uninstalling nvidia-cuda-nvrtc-cu12-12.5.82:\n",
            "      Successfully uninstalled nvidia-cuda-nvrtc-cu12-12.5.82\n",
            "  Attempting uninstall: nvidia-cuda-cupti-cu12\n",
            "    Found existing installation: nvidia-cuda-cupti-cu12 12.5.82\n",
            "    Uninstalling nvidia-cuda-cupti-cu12-12.5.82:\n",
            "      Successfully uninstalled nvidia-cuda-cupti-cu12-12.5.82\n",
            "  Attempting uninstall: nvidia-cublas-cu12\n",
            "    Found existing installation: nvidia-cublas-cu12 12.5.3.2\n",
            "    Uninstalling nvidia-cublas-cu12-12.5.3.2:\n",
            "      Successfully uninstalled nvidia-cublas-cu12-12.5.3.2\n",
            "  Attempting uninstall: nvidia-cusparse-cu12\n",
            "    Found existing installation: nvidia-cusparse-cu12 12.5.1.3\n",
            "    Uninstalling nvidia-cusparse-cu12-12.5.1.3:\n",
            "      Successfully uninstalled nvidia-cusparse-cu12-12.5.1.3\n",
            "  Attempting uninstall: nvidia-cudnn-cu12\n",
            "    Found existing installation: nvidia-cudnn-cu12 9.3.0.75\n",
            "    Uninstalling nvidia-cudnn-cu12-9.3.0.75:\n",
            "      Successfully uninstalled nvidia-cudnn-cu12-9.3.0.75\n",
            "  Attempting uninstall: nvidia-cusolver-cu12\n",
            "    Found existing installation: nvidia-cusolver-cu12 11.6.3.83\n",
            "    Uninstalling nvidia-cusolver-cu12-11.6.3.83:\n",
            "      Successfully uninstalled nvidia-cusolver-cu12-11.6.3.83\n",
            "Successfully installed nvidia-cublas-cu12-12.4.5.8 nvidia-cuda-cupti-cu12-12.4.127 nvidia-cuda-nvrtc-cu12-12.4.127 nvidia-cuda-runtime-cu12-12.4.127 nvidia-cudnn-cu12-9.1.0.70 nvidia-cufft-cu12-11.2.1.3 nvidia-curand-cu12-10.3.5.147 nvidia-cusolver-cu12-11.6.1.9 nvidia-cusparse-cu12-12.3.1.170 nvidia-nvjitlink-cu12-12.4.127\n"
          ]
        }
      ],
      "source": [
        "!pip install torch torchvision matplotlib"
      ]
    },
    {
      "cell_type": "markdown",
      "source": [
        "# Étape 2 : Importer les bibliothèques nécessaires"
      ],
      "metadata": {
        "id": "7suk3ZW-gRsl"
      }
    },
    {
      "cell_type": "code",
      "source": [
        "# Bibliothèque principale de PyTorch pour les tenseurs, calculs sur GPU, etc.\n",
        "import torch\n",
        "\n",
        "# Module contenant les classes pour définir des réseaux de neurones\n",
        "import torch.nn as nn\n",
        "\n",
        "# Contient des optimisateurs (ex: SGD, Adam) pour l'entraînement de modèles\n",
        "import torch.optim as optim\n",
        "\n",
        "# Bibliothèque PyTorch pour les datasets, modèles pré-entraînés, et utilitaires d'images\n",
        "import torchvision\n",
        "\n",
        "# Outils pour transformer les images\n",
        "import torchvision.transforms as transforms\n",
        "\n",
        "# Bibliothèque2 de visualisation\n",
        "import matplotlib.pyplot as plt\n",
        "import seaborn as sns\n",
        "\n",
        "# Pour afficher la matrice de confusion après l'entraînement\n",
        "from sklearn.metrics import confusion_matrix"
      ],
      "metadata": {
        "id": "Z3Hkzf6igJfH"
      },
      "execution_count": 13,
      "outputs": []
    },
    {
      "cell_type": "markdown",
      "source": [
        "# Étape 3 : Charger et préparer les données (MNIST)"
      ],
      "metadata": {
        "id": "WqvOlM5Nhxov"
      }
    },
    {
      "cell_type": "code",
      "source": [
        "MNIST_AVG = 0.1307  # Moyenne des pixels des images de MNIST\n",
        "MNIST_STD = 0.3081  # Écart-type des pixels des images de MNIST\n",
        "\n",
        "# Crée un pipeline de transformations qui :\n",
        "#   1. Convertit une image PIL ou NumPy en tenseur PyTorch (transforms.ToTensor)\n",
        "#   2. Normalise les pixels pour obtenir des valeurs entre 0 et 1 (transforms.Normalize)\n",
        "transform = transforms.Compose([\n",
        "    transforms.ToTensor(),\n",
        "    transforms.Normalize((MNIST_AVG,), (MNIST_STD,))\n",
        "])\n",
        "\n",
        "# ********************************************\n",
        "# Définition du jeu de données à télécharger *\n",
        "# ********************************************\n",
        "\n",
        "train_set = torchvision.datasets.MNIST(\n",
        "    root='./data',           # Dossier où les données seront stockées\n",
        "    train=True,              # Télécharge les données d'entraînement\n",
        "    download=True,           # Télécharge automatiquement si les fichiers n'existent pas\n",
        "    transform=transform      # Applique les transformations définies plus haut\n",
        ")\n",
        "\n",
        "test_set = torchvision.datasets.MNIST(\n",
        "    root='./data',\n",
        "    train=False,             # Cette fois, on télécharge les données de test\n",
        "    download=True,\n",
        "    transform=transform\n",
        ")\n",
        "\n",
        "# **********************************\n",
        "# Téléchargement du jeu de données *\n",
        "# **********************************\n",
        "\n",
        "train_loader = torch.utils.data.DataLoader(\n",
        "    train_set,               # Jeu d'entraînement\n",
        "    batch_size=64,           # Nombre d'exemples par lot\n",
        "    shuffle=True             # Mélange les données à chaque époque pour éviter les biais\n",
        ")\n",
        "\n",
        "test_loader = torch.utils.data.DataLoader(\n",
        "    test_set,                # Jeu de test\n",
        "    batch_size=1000,         # Plus gros batch pour accélérer l'évaluation\n",
        "    shuffle=False            # Pas besoin de mélanger les données de test\n",
        ")\n"
      ],
      "metadata": {
        "colab": {
          "base_uri": "https://localhost:8080/"
        },
        "id": "JHM0hX19g8eX",
        "outputId": "685b77c0-d258-4355-bfb6-2e4003ad0fb2"
      },
      "execution_count": 4,
      "outputs": [
        {
          "output_type": "stream",
          "name": "stderr",
          "text": [
            "100%|██████████| 9.91M/9.91M [00:00<00:00, 64.0MB/s]\n",
            "100%|██████████| 28.9k/28.9k [00:00<00:00, 25.3MB/s]\n",
            "100%|██████████| 1.65M/1.65M [00:00<00:00, 79.8MB/s]\n",
            "100%|██████████| 4.54k/4.54k [00:00<00:00, 8.81MB/s]\n"
          ]
        }
      ]
    },
    {
      "cell_type": "markdown",
      "source": [
        "# Étape 4 : Définir l'architecture du CNN\n",
        "\n",
        "Pour calculer la dimension de l'image retournée suite à une convolution 2D en fonction des dimensions d'origine, du padding, de la taille du noyau et du stride:\n",
        "$$$$\n",
        "$$\\mathrm{Output\\_size = \\left \\lfloor \\frac{Input\\_size + 2 \\times Padding - Kernel\\_size}{Stride}\\right \\rfloor + 1}$$\n",
        "$$$$\n",
        "$$\\mathrm{O = \\left \\lfloor \\frac{I+ 2P - K}{S}\\right \\rfloor + 1}$$\n",
        "$$$$\n",
        "En isolant le padding $\\mathrm{\\left(P\\right)}$ :\n",
        "$$$$\n",
        "$$\\mathrm{P = \\left \\lfloor \\frac{(I - 1) \\times S + K - I}{2}\\right \\rfloor}$$\n",
        "$$$$"
      ],
      "metadata": {
        "id": "APgv1ynxkBUr"
      }
    },
    {
      "cell_type": "code",
      "source": [
        "class CNNMNIST(nn.Module):\n",
        "\n",
        "    # Couche no.1 - Convolution 2D\n",
        "    __NB_CHANNELS_1 = 1   # Le nombre de canaux des images (niveau de gris)\n",
        "    __INPUT_SIZE_1 = 28   # La taille de l'image d'entrée (28 x 28)\n",
        "    __OUTPUT_SIZE_1 = 28  # La taille de l'image de sortie après la première convolution\n",
        "    __NB_FILTERS_1 = 32   # Le nombre de filtres de la première couche de convolution\n",
        "    __KERNEL_SIZE_1 = 3   # La taille des filtres de convolution\n",
        "    __STRIDE_1 = 1        # Le pas de la convolution\n",
        "\n",
        "    # Couche no.2 - Convolution 2D\n",
        "    __NB_CHANNELS_2 = __NB_FILTERS_1\n",
        "    __INPUT_SIZE_2 = __OUTPUT_SIZE_1\n",
        "    __OUTPUT_SIZE_2 = __OUTPUT_SIZE_1\n",
        "    __NB_FILTERS_2 = 64\n",
        "    __KERNEL_SIZE_2 = 3\n",
        "    __STRIDE_2 = 1\n",
        "\n",
        "    # Couche no.3 - Max Pooling\n",
        "    __MAX_POOL_SIZE_3 = 2\n",
        "\n",
        "    # Couche no.4 - Dropout\n",
        "    __DROPOUT_RATE_4 = 0.25\n",
        "\n",
        "    def __init__(self):\n",
        "\n",
        "      # Pour le suivi automatique des paramètres, l'enregistrement des couches, gestion des hooks, etc.\n",
        "      super(CNNMNIST, self).__init__()\n",
        "\n",
        "      # Couche no.1 : Convolution (entrée 1 x 28 x 28, sortie 32 x 28 x 28)\n",
        "      padding_layer_1 = self.__calculate_padding(self.__INPUT_SIZE_1,\n",
        "                                                  self.__KERNEL_SIZE_1,\n",
        "                                                  self.__STRIDE_1)\n",
        "\n",
        "      self.conv1 = nn.Conv2d(self.__NB_CHANNELS_1,\n",
        "                              self.__NB_FILTERS_1,\n",
        "                              kernel_size=self.__KERNEL_SIZE_1,\n",
        "                              padding=padding_layer_1)\n",
        "\n",
        "      # Couche no.2 : Convolution (entrée 32 x 28 x 28, sortie 64 x 28 x 28)\n",
        "      padding_layer_2 = self.__calculate_padding(self.__NB_FILTERS_1,\n",
        "                                                  self.__KERNEL_SIZE_2,\n",
        "                                                  self.__STRIDE_2)\n",
        "\n",
        "      self.conv2 = nn.Conv2d(self.__NB_CHANNELS_2,\n",
        "                              self.__NB_FILTERS_2,\n",
        "                              kernel_size=self.__KERNEL_SIZE_2,\n",
        "                              padding=padding_layer_2)\n",
        "\n",
        "      # Couche no.3 : Max Pooling (entrée A x B x C, sortie A x B // 2 x C // 2)\n",
        "      self.pool = nn.MaxPool2d(self.__MAX_POOL_SIZE_3,\n",
        "                                self.__MAX_POOL_SIZE_3)\n",
        "\n",
        "      # Couche no.4 : Désactiver aléatoirement 25% des neurones pour éviter le surapprentissage\n",
        "      self.dropout = nn.Dropout(self.__DROPOUT_RATE_4)\n",
        "\n",
        "      # Couche no.5 :\n",
        "      self.fc1 = nn.Linear(64 * 7 * 7, 128)\n",
        "      self.fc2 = nn.Linear(128, 10)\n",
        "\n",
        "    def forward(self, x):\n",
        "      '''\n",
        "      Couches:\n",
        "        01. Convolution 2D (entrée 1 x 28 x 28, sortie 32 x 28 x 28)\n",
        "        02. RELU\n",
        "        03. Max Pooling (entrée 32 x 28 x 28, sortie 32 x 14 x 14)\n",
        "        04. Convolution 2D (entrée 32 x 14 x 14, sortie 64 x 14, 14)\n",
        "        05. RELU\n",
        "        06. Max Pooling (entrée 64 x 14 x 14, sortie 64 x 7 x 7)\n",
        "        07. Dropout (entrée 64 x 7 x 7, sortie 64 x 7 x 7)\n",
        "        08. Fully Connected (entrée 64 x 7 x 7, sortie 64 x 7 x 7 = 3136)\n",
        "        09. RELU\n",
        "        10. Fully Connected (entrée 128, sortie 10)\n",
        "      '''\n",
        "\n",
        "      # Convolution -> RELU -> Max Pool\n",
        "      x = self.pool(torch.relu(self.conv1(x)))\n",
        "      x = self.pool(torch.relu(self.conv2(x)))\n",
        "\n",
        "      # Aplatir de 3D à 1D\n",
        "      x = x.view(-1, 64 * 7 * 7)\n",
        "\n",
        "      # Désactivation aléatoire\n",
        "      x = self.dropout(x)\n",
        "\n",
        "      # Couche pleinement connectée -> RELU\n",
        "      x = torch.relu(self.fc1(x))\n",
        "\n",
        "      # Couche pleinement connectée\n",
        "      x = self.fc2(x)\n",
        "\n",
        "      return x\n",
        "\n",
        "    @staticmethod\n",
        "    def __calculate_padding(input_size, kernel_size, stride):\n",
        "        return ((input_size - 1) * stride + kernel_size - input_size) // 2\n",
        "\n",
        "    @staticmethod\n",
        "    def __calculate_output_size_conv(input_size, padding_size, kernel_size, stride):\n",
        "        return (input_size + 2 * padding_size - kernel_size) // stride + 1\n"
      ],
      "metadata": {
        "id": "kCPSo5Puj38b"
      },
      "execution_count": 7,
      "outputs": []
    },
    {
      "cell_type": "markdown",
      "source": [
        "# Étape 5 : Instancier (1) le modèle, (2) la fonction objective et (3) l'optimiseur"
      ],
      "metadata": {
        "id": "kgtL9EEb51cz"
      }
    },
    {
      "cell_type": "code",
      "source": [
        "# Définir l'appareil sur lequel sera exécuté le modèle\n",
        "device = torch.device(\"cuda\" if torch.cuda.is_available() else \"cpu\")\n",
        "\n",
        "# Relier le modèle et l'appareil\n",
        "model = CNNMNIST().to(device)\n",
        "\n",
        "# Instancier la fonction objective\n",
        "criterion = nn.CrossEntropyLoss()\n",
        "\n",
        "# Instancier l'optimiseur\n",
        "optimizer = optim.Adam(model.parameters(), lr=0.001)"
      ],
      "metadata": {
        "id": "ZqxXj1ek6AKl"
      },
      "execution_count": 8,
      "outputs": []
    },
    {
      "cell_type": "markdown",
      "source": [
        "# Étape 6 : Entraîner le modèle"
      ],
      "metadata": {
        "id": "dPcdu2wI6Bab"
      }
    },
    {
      "cell_type": "code",
      "source": [
        "def train(model, train_loader, optimizer, criterion, epochs=5):\n",
        "\n",
        "  # Active le mode entraînement\n",
        "  model.train()\n",
        "\n",
        "  # Boucle sur chaque époque\n",
        "  for epoch in range(epochs):\n",
        "\n",
        "    # Accumulateur pour la perte totale de l'époque\n",
        "    running_loss = 0.0\n",
        "\n",
        "    # Boucle sur chaque batch\n",
        "    for images, labels in train_loader:\n",
        "\n",
        "      # Envoie les données sur le bon appareil\n",
        "      images, labels = images.to(device), labels.to(device)\n",
        "\n",
        "      optimizer.zero_grad()               # Réinitialise les gradients à zéro\n",
        "      outputs = model(images)             # Passe les images dans le modèle (forward pass)\n",
        "      loss = criterion(outputs, labels)   # Calcule la perte entre les prédictions et les vraies étiquettes\n",
        "      loss.backward()                     # Calcul des gradients via la rétropropagation\n",
        "      optimizer.step()                    # Mise à jour des poids du modèle\n",
        "      running_loss += loss.item()         # Ajoute la perte du batch à la somme totale\n",
        "\n",
        "    # Affiche la perte moyenne de l'époque\n",
        "    print(f\"Epoch {epoch+1}, Loss: {running_loss / len(train_loader):.4f}\")\n"
      ],
      "metadata": {
        "id": "aFhF30FM6BHb"
      },
      "execution_count": 9,
      "outputs": []
    },
    {
      "cell_type": "markdown",
      "source": [
        "# Étape 7 : Évaluer le modèle"
      ],
      "metadata": {
        "id": "7n4SeZLq6Kji"
      }
    },
    {
      "cell_type": "code",
      "source": [
        "def test(model, test_loader, classes, show_errors=True, max_errors=5):\n",
        "\n",
        "  # Met le modèle en mode évaluation (désactive le Dropout, fixe les BatchNorm)\n",
        "  model.eval()\n",
        "\n",
        "  nb_correct = 0    # Compteur de bonnes prédictions\n",
        "  nb_total = 0      # Compteur total d'exemples\n",
        "  all_preds = []    # Toutes les prédictions\n",
        "  all_labels = []   # Tous les étiquettes\n",
        "  errors = []       # Images mal classées\n",
        "\n",
        "  with torch.no_grad():  # Désactive la rétropropagation (plus rapide et moins gourmand)\n",
        "\n",
        "    # Pour chaque batch\n",
        "    for images, labels in test_loader:\n",
        "\n",
        "      # Envoie les données sur le bon appareil (CPU ou GPU)\n",
        "      images, labels = images.to(device), labels.to(device)\n",
        "\n",
        "      # Prédire les probabilités de classes de la batch courante\n",
        "      outputs = model(images)\n",
        "\n",
        "      # Récupère la classe avec le score le plus élevé\n",
        "      _, predicted = torch.max(outputs.data, 1)\n",
        "\n",
        "      # Mise à jour du total d'exemples\n",
        "      nb_total += labels.size(0)\n",
        "\n",
        "      # Mise à jour du total de bonnes prédictions\n",
        "      nb_correct += (predicted == labels).sum().item()\n",
        "\n",
        "      # Stocke les prédictions et les étiquettes réelles pour la matrice de confusion\n",
        "      all_preds.extend(predicted.cpu().numpy())\n",
        "      all_labels.extend(labels.cpu().numpy())\n",
        "\n",
        "      # Si on veut afficher des erreurs\n",
        "      if show_errors and len(errors) < max_errors:\n",
        "\n",
        "        # Récupère les indices mal prédits dans le batch courant\n",
        "        wrong_indices = (predicted != labels).nonzero(as_tuple=True)[0]\n",
        "\n",
        "        # Ajoute des exemples à la liste des erreurs\n",
        "        for idx in wrong_indices[:max_errors - len(errors)]:\n",
        "          errors.append((images[idx].cpu(), predicted[idx].item(), labels[idx].item()))\n",
        "\n",
        "  # Affiche les images mal classées\n",
        "  if show_errors and errors:\n",
        "    print(\"\\nExemples de prédictions incorrectes :\")\n",
        "    for i, (img, pred, true) in enumerate(errors):\n",
        "      plt.subplot(1, max_errors, i + 1)\n",
        "      plt.axis('off')\n",
        "      plt.title(f\"P:{pred}, T:{true}\")\n",
        "      plt.imshow(img.squeeze(), cmap='gray')\n",
        "    plt.tight_layout()\n",
        "    plt.show()\n",
        "\n",
        "  # Affichee la matrice de confusion\n",
        "  cm = confusion_matrix(all_labels, all_preds)\n",
        "  plt.figure(figsize=(8, 6))\n",
        "  sns.heatmap(cm, annot=True, fmt='d', cmap='Blues',\n",
        "              xticklabels=classes, yticklabels=classes)\n",
        "  plt.xlabel('Prédiction')\n",
        "  plt.ylabel('Vrai label')\n",
        "  plt.title('Matrice de confusion')\n",
        "  plt.show()\n",
        "\n",
        "  # Affichee l'exactitude sur le jeu de test\n",
        "  print(f\"\\nAccuracy: {100 * nb_correct / nb_total:.2f}%\")"
      ],
      "metadata": {
        "id": "VN_dtoNT6NQE"
      },
      "execution_count": 14,
      "outputs": []
    },
    {
      "cell_type": "markdown",
      "source": [
        "Étape 8 : Lancer l'entraînement et l'évaluation"
      ],
      "metadata": {
        "id": "8cMjZirM6O1W"
      }
    },
    {
      "cell_type": "code",
      "source": [
        "train(model, train_loader, optimizer, criterion, epochs=1)\n",
        "classes = [str(i) for i in range(10)]\n",
        "test(model, test_loader, classes)"
      ],
      "metadata": {
        "id": "eq1mYYjj6RV0",
        "colab": {
          "base_uri": "https://localhost:8080/",
          "height": 803
        },
        "outputId": "d9ccfd93-06f0-4eea-dcd7-5d79c446edc4"
      },
      "execution_count": 16,
      "outputs": [
        {
          "output_type": "stream",
          "name": "stdout",
          "text": [
            "Epoch 1, Loss: 0.0201\n",
            "\n",
            "Exemples de prédictions incorrectes :\n"
          ]
        },
        {
          "output_type": "display_data",
          "data": {
            "text/plain": [
              "<Figure size 640x480 with 5 Axes>"
            ],
            "image/png": "[encoded data removed]"
          },
          "metadata": {}
        },
        {
          "output_type": "display_data",
          "data": {
            "text/plain": [
              "<Figure size 800x600 with 2 Axes>"
            ],
            "image/png": "[encoded data removed]"
          },
          "metadata": {}
        },
        {
          "output_type": "stream",
          "name": "stdout",
          "text": [
            "\n",
            "Accuracy: 99.00%\n"
          ]
        }
      ]
    },
    {
      "cell_type": "code",
      "source": [],
      "metadata": {
        "id": "mqgj_zoyyOs0"
      },
      "execution_count": null,
      "outputs": []
    }
  ]
}